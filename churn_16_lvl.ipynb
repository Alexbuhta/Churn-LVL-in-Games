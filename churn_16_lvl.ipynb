{
 "cells": [
  {
   "cell_type": "code",
   "execution_count": 1,
   "id": "642a4972",
   "metadata": {},
   "outputs": [],
   "source": [
    "import pandas as pd\n",
    "import numpy as np\n",
    "from sqlalchemy import create_engine\n",
    "from snowflake.sqlalchemy import URL\n",
    "\n",
    "import matplotlib.pyplot as plt\n",
    "import seaborn as sns\n",
    "\n",
    "import warnings\n",
    "warnings.filterwarnings('ignore')"
   ]
  },
  {
   "cell_type": "code",
   "execution_count": 2,
   "id": "057d7dc7",
   "metadata": {},
   "outputs": [],
   "source": [
    "url = URL(\n",
    "    user=\"ABUHTAREVICH\",\n",
    "    password=\"\",\n",
    "    account=\".us-.gcp\",\n",
    "    warehouse=\"COMPUTE_WH\",\n",
    "    database=\"\",\n",
    "    schema=\"\",\n",
    "    #role='xxxxx',\n",
    "    #authenticator='https://xxxxx.okta.com',\n",
    ")\n",
    "engine = create_engine(url)\n",
    "connection = engine.connect()"
   ]
  },
  {
   "cell_type": "code",
   "execution_count": 3,
   "id": "8d536fdf",
   "metadata": {},
   "outputs": [],
   "source": [
    "# show all tables\n",
    "\n",
    "pd.set_option('display.max_rows', 500)"
   ]
  },
  {
   "cell_type": "code",
   "execution_count": 4,
   "id": "5099484a",
   "metadata": {},
   "outputs": [],
   "source": [
    "query = '''\n",
    "with \n",
    "users_installs as (\n",
    "select \n",
    "    adid\n",
    "from events\n",
    "where app_id = '1636821805'\n",
    "    and to_date(created_at) between '2023-01-06' and '2023-01-23'\n",
    "    and activity_kind = 'install'\n",
    "    and country = 'us'\n",
    "    and app_version_short in ('1.8', '1.9')\n",
    "),\n",
    "\n",
    "user_start as (\n",
    "select\n",
    "    adid\n",
    "from events\n",
    "where app_id = '1636821805'\n",
    "and datediff(day, to_date(installed_at), to_date(created_at)) between 0 and 25\n",
    "and adid in (select adid from users_installs)\n",
    "and event_name in ('game_start')\n",
    "and parse_json(publisher_parameters):lvl_total::integer = 35\n",
    "),\n",
    "\n",
    "user_end as (\n",
    "select\n",
    "    adid\n",
    "from events\n",
    "where app_id = '1636821805'\n",
    "and datediff(day, to_date(installed_at), to_date(created_at)) between 0 and 25\n",
    "and adid in (select adid from user_start)\n",
    "and event_name in ('game_win')\n",
    "and parse_json(publisher_parameters):lvl_total::integer = 35\n",
    ")\n",
    "\n",
    "select\n",
    "    adid,\n",
    "    created_at,\n",
    "    event_name,\n",
    "    parse_json(publisher_parameters):lvl_total::integer lvl_total,\n",
    "    parse_json(publisher_parameters):themeName::string theme,\n",
    "    parse_json(publisher_parameters):lvl::integer lvl,\n",
    "    parse_json(publisher_parameters):count_word_fail::integer count_word_fail,\n",
    "    parse_json(publisher_parameters):type::string type,\n",
    "    parse_json(publisher_parameters):answer::string answer,\n",
    "    parse_json(publisher_parameters):result::string result,\n",
    "    parse_json(publisher_parameters):time_round::integer time_round,\n",
    "    parse_json(publisher_parameters):time_round::integer time_round2\n",
    "from events\n",
    "where app_id = '1636821805'\n",
    "and datediff(day, to_date(installed_at), to_date(created_at)) between 0 and 25\n",
    "and adid in (select adid from user_start)\n",
    "and adid not in (select adid from user_end)\n",
    "and event_name in ('game_word_end', 'game_hint_spend', 'game_word_fail')\n",
    "and parse_json(publisher_parameters):lvl_total::integer = 35\n",
    "'''"
   ]
  },
  {
   "cell_type": "code",
   "execution_count": 5,
   "id": "179bdbaa",
   "metadata": {},
   "outputs": [],
   "source": [
    "df = pd.read_sql(query, connection)"
   ]
  },
  {
   "cell_type": "code",
   "execution_count": 6,
   "id": "7912b3c2",
   "metadata": {},
   "outputs": [
    {
     "data": {
      "text/plain": [
       "adid               object\n",
       "created_at         object\n",
       "event_name         object\n",
       "lvl_total           int64\n",
       "theme              object\n",
       "lvl                 int64\n",
       "count_word_fail    object\n",
       "type               object\n",
       "answer             object\n",
       "result             object\n",
       "time_round         object\n",
       "time_round2        object\n",
       "dtype: object"
      ]
     },
     "execution_count": 6,
     "metadata": {},
     "output_type": "execute_result"
    }
   ],
   "source": [
    "df.dtypes"
   ]
  },
  {
   "cell_type": "code",
   "execution_count": 7,
   "id": "2f94d653",
   "metadata": {},
   "outputs": [
    {
     "data": {
      "text/plain": [
       "adid                  0\n",
       "created_at            0\n",
       "event_name            0\n",
       "lvl_total             0\n",
       "theme                 0\n",
       "lvl                   0\n",
       "count_word_fail    1822\n",
       "type                  0\n",
       "answer                0\n",
       "result              334\n",
       "time_round         1822\n",
       "time_round2        1822\n",
       "dtype: int64"
      ]
     },
     "execution_count": 7,
     "metadata": {},
     "output_type": "execute_result"
    }
   ],
   "source": [
    "df.isna().sum()"
   ]
  },
  {
   "cell_type": "code",
   "execution_count": 8,
   "id": "45780518",
   "metadata": {},
   "outputs": [
    {
     "data": {
      "text/html": [
       "<div>\n",
       "<style scoped>\n",
       "    .dataframe tbody tr th:only-of-type {\n",
       "        vertical-align: middle;\n",
       "    }\n",
       "\n",
       "    .dataframe tbody tr th {\n",
       "        vertical-align: top;\n",
       "    }\n",
       "\n",
       "    .dataframe thead th {\n",
       "        text-align: right;\n",
       "    }\n",
       "</style>\n",
       "<table border=\"1\" class=\"dataframe\">\n",
       "  <thead>\n",
       "    <tr style=\"text-align: right;\">\n",
       "      <th></th>\n",
       "      <th>adid</th>\n",
       "      <th>created_at</th>\n",
       "      <th>event_name</th>\n",
       "      <th>lvl_total</th>\n",
       "      <th>theme</th>\n",
       "      <th>lvl</th>\n",
       "      <th>count_word_fail</th>\n",
       "      <th>type</th>\n",
       "      <th>answer</th>\n",
       "      <th>result</th>\n",
       "      <th>time_round</th>\n",
       "      <th>time_round2</th>\n",
       "    </tr>\n",
       "  </thead>\n",
       "  <tbody>\n",
       "    <tr>\n",
       "      <th>0</th>\n",
       "      <td>35b9c355a12e29f6e16162f169d975b3</td>\n",
       "      <td>1673469741</td>\n",
       "      <td>game_hint_spend</td>\n",
       "      <td>35</td>\n",
       "      <td>Mathematics</td>\n",
       "      <td>1</td>\n",
       "      <td>None</td>\n",
       "      <td>words</td>\n",
       "      <td>FUTURE</td>\n",
       "      <td>None</td>\n",
       "      <td>None</td>\n",
       "      <td>None</td>\n",
       "    </tr>\n",
       "    <tr>\n",
       "      <th>1</th>\n",
       "      <td>0d3cc82690a322d4eb148b9f737a0dd3</td>\n",
       "      <td>1674801704</td>\n",
       "      <td>game_word_fail</td>\n",
       "      <td>35</td>\n",
       "      <td>Mathematics</td>\n",
       "      <td>1</td>\n",
       "      <td>None</td>\n",
       "      <td>words</td>\n",
       "      <td>CLOSE</td>\n",
       "      <td>HUMID</td>\n",
       "      <td>None</td>\n",
       "      <td>None</td>\n",
       "    </tr>\n",
       "    <tr>\n",
       "      <th>2</th>\n",
       "      <td>0d3cc82690a322d4eb148b9f737a0dd3</td>\n",
       "      <td>1674801782</td>\n",
       "      <td>game_hint_spend</td>\n",
       "      <td>35</td>\n",
       "      <td>Mathematics</td>\n",
       "      <td>1</td>\n",
       "      <td>None</td>\n",
       "      <td>words</td>\n",
       "      <td>COLLEGE</td>\n",
       "      <td>None</td>\n",
       "      <td>None</td>\n",
       "      <td>None</td>\n",
       "    </tr>\n",
       "    <tr>\n",
       "      <th>3</th>\n",
       "      <td>0d3cc82690a322d4eb148b9f737a0dd3</td>\n",
       "      <td>1674801987</td>\n",
       "      <td>game_word_fail</td>\n",
       "      <td>35</td>\n",
       "      <td>Mathematics</td>\n",
       "      <td>1</td>\n",
       "      <td>None</td>\n",
       "      <td>words</td>\n",
       "      <td>CALL</td>\n",
       "      <td>FALL</td>\n",
       "      <td>None</td>\n",
       "      <td>None</td>\n",
       "    </tr>\n",
       "    <tr>\n",
       "      <th>4</th>\n",
       "      <td>0d3cc82690a322d4eb148b9f737a0dd3</td>\n",
       "      <td>1674801991</td>\n",
       "      <td>game_word_fail</td>\n",
       "      <td>35</td>\n",
       "      <td>Mathematics</td>\n",
       "      <td>1</td>\n",
       "      <td>None</td>\n",
       "      <td>words</td>\n",
       "      <td>CALL</td>\n",
       "      <td>BULL</td>\n",
       "      <td>None</td>\n",
       "      <td>None</td>\n",
       "    </tr>\n",
       "  </tbody>\n",
       "</table>\n",
       "</div>"
      ],
      "text/plain": [
       "                               adid  created_at       event_name  lvl_total  \\\n",
       "0  35b9c355a12e29f6e16162f169d975b3  1673469741  game_hint_spend         35   \n",
       "1  0d3cc82690a322d4eb148b9f737a0dd3  1674801704   game_word_fail         35   \n",
       "2  0d3cc82690a322d4eb148b9f737a0dd3  1674801782  game_hint_spend         35   \n",
       "3  0d3cc82690a322d4eb148b9f737a0dd3  1674801987   game_word_fail         35   \n",
       "4  0d3cc82690a322d4eb148b9f737a0dd3  1674801991   game_word_fail         35   \n",
       "\n",
       "         theme  lvl count_word_fail   type   answer result time_round  \\\n",
       "0  Mathematics    1            None  words   FUTURE   None       None   \n",
       "1  Mathematics    1            None  words    CLOSE  HUMID       None   \n",
       "2  Mathematics    1            None  words  COLLEGE   None       None   \n",
       "3  Mathematics    1            None  words     CALL   FALL       None   \n",
       "4  Mathematics    1            None  words     CALL   BULL       None   \n",
       "\n",
       "  time_round2  \n",
       "0        None  \n",
       "1        None  \n",
       "2        None  \n",
       "3        None  \n",
       "4        None  "
      ]
     },
     "execution_count": 8,
     "metadata": {},
     "output_type": "execute_result"
    }
   ],
   "source": [
    "df.head()"
   ]
  },
  {
   "cell_type": "code",
   "execution_count": 9,
   "id": "582c3ec9",
   "metadata": {},
   "outputs": [
    {
     "data": {
      "text/plain": [
       "295"
      ]
     },
     "execution_count": 9,
     "metadata": {},
     "output_type": "execute_result"
    }
   ],
   "source": [
    "df.adid.nunique()"
   ]
  },
  {
   "cell_type": "code",
   "execution_count": 14,
   "id": "3046f8ec",
   "metadata": {},
   "outputs": [
    {
     "data": {
      "text/html": [
       "<div>\n",
       "<style scoped>\n",
       "    .dataframe tbody tr th:only-of-type {\n",
       "        vertical-align: middle;\n",
       "    }\n",
       "\n",
       "    .dataframe tbody tr th {\n",
       "        vertical-align: top;\n",
       "    }\n",
       "\n",
       "    .dataframe thead th {\n",
       "        text-align: right;\n",
       "    }\n",
       "</style>\n",
       "<table border=\"1\" class=\"dataframe\">\n",
       "  <thead>\n",
       "    <tr style=\"text-align: right;\">\n",
       "      <th></th>\n",
       "      <th>event_name</th>\n",
       "      <th>adid</th>\n",
       "      <th>lvl_total</th>\n",
       "    </tr>\n",
       "  </thead>\n",
       "  <tbody>\n",
       "    <tr>\n",
       "      <th>0</th>\n",
       "      <td>game_hint_spend</td>\n",
       "      <td>76</td>\n",
       "      <td>115</td>\n",
       "    </tr>\n",
       "    <tr>\n",
       "      <th>1</th>\n",
       "      <td>game_word_end</td>\n",
       "      <td>81</td>\n",
       "      <td>175</td>\n",
       "    </tr>\n",
       "    <tr>\n",
       "      <th>2</th>\n",
       "      <td>game_word_fail</td>\n",
       "      <td>250</td>\n",
       "      <td>1038</td>\n",
       "    </tr>\n",
       "  </tbody>\n",
       "</table>\n",
       "</div>"
      ],
      "text/plain": [
       "        event_name  adid  lvl_total\n",
       "0  game_hint_spend    76        115\n",
       "1    game_word_end    81        175\n",
       "2   game_word_fail   250       1038"
      ]
     },
     "execution_count": 14,
     "metadata": {},
     "output_type": "execute_result"
    }
   ],
   "source": [
    "df.query('type == \"words\"') \\\n",
    "        .groupby(['event_name'], as_index=False).agg({'adid': 'nunique', 'lvl_total': 'count'})"
   ]
  },
  {
   "cell_type": "code",
   "execution_count": 15,
   "id": "78bde7de",
   "metadata": {},
   "outputs": [
    {
     "data": {
      "text/plain": [
       "0.162"
      ]
     },
     "execution_count": 15,
     "metadata": {},
     "output_type": "execute_result"
    }
   ],
   "source": [
    "81/500"
   ]
  },
  {
   "cell_type": "code",
   "execution_count": null,
   "id": "6cc8a76c",
   "metadata": {},
   "outputs": [],
   "source": []
  },
  {
   "cell_type": "code",
   "execution_count": null,
   "id": "63c5d97d",
   "metadata": {},
   "outputs": [],
   "source": []
  },
  {
   "cell_type": "code",
   "execution_count": null,
   "id": "f7e00a9c",
   "metadata": {},
   "outputs": [],
   "source": []
  },
  {
   "cell_type": "code",
   "execution_count": null,
   "id": "97d9b066",
   "metadata": {},
   "outputs": [],
   "source": []
  },
  {
   "cell_type": "code",
   "execution_count": null,
   "id": "0b20e5f8",
   "metadata": {},
   "outputs": [],
   "source": []
  },
  {
   "cell_type": "code",
   "execution_count": null,
   "id": "f4bf9937",
   "metadata": {},
   "outputs": [],
   "source": []
  },
  {
   "cell_type": "code",
   "execution_count": null,
   "id": "9974bec6",
   "metadata": {},
   "outputs": [],
   "source": []
  },
  {
   "cell_type": "code",
   "execution_count": null,
   "id": "f586d870",
   "metadata": {},
   "outputs": [],
   "source": []
  },
  {
   "cell_type": "code",
   "execution_count": null,
   "id": "32fec0c6",
   "metadata": {},
   "outputs": [],
   "source": []
  },
  {
   "cell_type": "code",
   "execution_count": null,
   "id": "91777196",
   "metadata": {},
   "outputs": [],
   "source": []
  },
  {
   "cell_type": "code",
   "execution_count": null,
   "id": "b75df66f",
   "metadata": {},
   "outputs": [],
   "source": []
  },
  {
   "cell_type": "code",
   "execution_count": null,
   "id": "912f6fff",
   "metadata": {},
   "outputs": [],
   "source": []
  },
  {
   "cell_type": "code",
   "execution_count": null,
   "id": "16de047d",
   "metadata": {},
   "outputs": [],
   "source": []
  },
  {
   "cell_type": "code",
   "execution_count": null,
   "id": "2b43c60a",
   "metadata": {},
   "outputs": [],
   "source": []
  },
  {
   "cell_type": "code",
   "execution_count": null,
   "id": "08d96e42",
   "metadata": {},
   "outputs": [],
   "source": [
    "df[df.lvl_total.notnull()].event_name.value_counts()"
   ]
  },
  {
   "cell_type": "code",
   "execution_count": null,
   "id": "c734428d",
   "metadata": {},
   "outputs": [],
   "source": [
    "df.created_at = df.created_at.astype('int')"
   ]
  },
  {
   "cell_type": "code",
   "execution_count": null,
   "id": "14d0e41e",
   "metadata": {},
   "outputs": [],
   "source": [
    "df.adid.unique()"
   ]
  },
  {
   "cell_type": "code",
   "execution_count": null,
   "id": "aeae8757",
   "metadata": {},
   "outputs": [],
   "source": [
    "df.query('adid == \"9cc07c6869448aaa05d7c87d9a66846f\"')"
   ]
  },
  {
   "cell_type": "code",
   "execution_count": null,
   "id": "8758d07c",
   "metadata": {},
   "outputs": [],
   "source": [
    "df.query('event_name in (\"ads_interstitial_potential\", \"ads_interstitial_impression\")') \\\n",
    "    .groupby(['event_name', 'placement'], as_index=False) \\\n",
    "    .agg({'adid': 'nunique', 'created_at': 'count'}) \\\n",
    "    .pivot(index='event_name', columns='placement', values=['adid', 'created_at'])"
   ]
  },
  {
   "cell_type": "code",
   "execution_count": null,
   "id": "f85ea4a9",
   "metadata": {},
   "outputs": [],
   "source": [
    "df.adid.nunique()"
   ]
  },
  {
   "cell_type": "code",
   "execution_count": null,
   "id": "a83de68b",
   "metadata": {},
   "outputs": [],
   "source": [
    "1918-359"
   ]
  },
  {
   "cell_type": "code",
   "execution_count": null,
   "id": "1ade6968",
   "metadata": {},
   "outputs": [],
   "source": [
    "1559/2257"
   ]
  },
  {
   "cell_type": "code",
   "execution_count": null,
   "id": "15ea7da5",
   "metadata": {},
   "outputs": [],
   "source": [
    "df_time_1_lvl = df.query('event_name == \"game_win\" & lvl_total == 2 & theme == \"Interesting\"') \\\n",
    "        .groupby('adid', as_index=False) \\\n",
    "        .agg({'created_at': max}) \\\n",
    "        .rename(columns={'created_at': 'time_1_lvl'})"
   ]
  },
  {
   "cell_type": "code",
   "execution_count": null,
   "id": "dd74b45b",
   "metadata": {},
   "outputs": [],
   "source": [
    "df_lvl = df_time_1_lvl.merge(df, how='left', on='adid')"
   ]
  },
  {
   "cell_type": "code",
   "execution_count": null,
   "id": "237e4e9c",
   "metadata": {},
   "outputs": [],
   "source": [
    "all_users = df_lvl.adid.nunique()\n",
    "all_users"
   ]
  },
  {
   "cell_type": "code",
   "execution_count": null,
   "id": "63d1af82",
   "metadata": {},
   "outputs": [],
   "source": [
    "df_lvl.adid.unique()"
   ]
  },
  {
   "cell_type": "code",
   "execution_count": null,
   "id": "9e2dddd0",
   "metadata": {},
   "outputs": [],
   "source": [
    "0.871954-0.136464"
   ]
  },
  {
   "cell_type": "code",
   "execution_count": null,
   "id": "70cce100",
   "metadata": {
    "scrolled": false
   },
   "outputs": [],
   "source": [
    "df_on_1_lvl = df_lvl.query('created_at >= time_1_lvl').copy()\n",
    "\n",
    "df_events_on_1_lvl = df_on_1_lvl.groupby('event_name', as_index=False) \\\n",
    "           .agg({'adid': 'nunique', 'created_at': 'count'}) \\\n",
    "           .rename(columns={'created_at': 'events_counts'}) \\\n",
    "\n",
    "df_events_on_1_lvl['event_per_user'] = df_events_on_1_lvl.events_counts / df_events_on_1_lvl.adid\n",
    "df_events_on_1_lvl['conversion'] = df_events_on_1_lvl.adid / all_users\n",
    "\n",
    "df_events_on_1_lvl = df_events_on_1_lvl.sort_values('adid', ascending=False)\n",
    "\n",
    "df_events_on_1_lvl.query(\n",
    "    'event_name not in (\"game_start\", \"ads_revenue_threshold\", \"revenue_threshold\", \"ab_test\", \"onboarding_game_1_end\", \"game_win\")'\n",
    ")[['event_name', 'conversion', 'event_per_user']]"
   ]
  },
  {
   "cell_type": "code",
   "execution_count": null,
   "id": "207ef8bd",
   "metadata": {},
   "outputs": [],
   "source": [
    "df_pontential = df.query('event_name == \"ads_interstitial_potential\"') \\\n",
    "                    .groupby('placement', as_index=False) \\\n",
    "                    .agg({'adid': 'nunique', 'created_at': 'count'}) \\\n",
    "                    .rename(columns={'created_at': 'events_counts'}) \\\n",
    "\n",
    "df_pontential['event_per_user'] = df_pontential.events_counts / df_pontential.adid\n",
    "\n",
    "df_pontential['conversion'] = df_pontential.adid / all_users\n",
    "\n",
    "df_pontential = df_pontential.sort_values('adid', ascending=False)\n",
    "\n",
    "df_pontential[['placement', 'conversion', 'event_per_user']]"
   ]
  },
  {
   "cell_type": "code",
   "execution_count": null,
   "id": "5a66b1e1",
   "metadata": {},
   "outputs": [],
   "source": [
    "df_impression = df.query('event_name == \"ads_interstitial_impression\"') \\\n",
    "                    .groupby('placement', as_index=False) \\\n",
    "                    .agg({'adid': 'nunique', 'created_at': 'count'}) \\\n",
    "                    .rename(columns={'created_at': 'events_counts'}) \\\n",
    "\n",
    "df_impression['event_per_user'] = df_impression.events_counts / df_impression.adid\n",
    "\n",
    "df_impression['conversion'] = df_impression.adid / all_users\n",
    "\n",
    "df_impression = df_impression.sort_values('adid', ascending=False)\n",
    "\n",
    "df_impression[['placement', 'conversion', 'event_per_user']]"
   ]
  },
  {
   "cell_type": "code",
   "execution_count": null,
   "id": "da0c6e03",
   "metadata": {},
   "outputs": [],
   "source": [
    "df_word_end = df.query('event_name == \"game_word_end\" & lvl_total == 2 & theme == \"Interesting\"') \\\n",
    "    .groupby('answer', as_index=False) \\\n",
    "    .agg({'adid': 'nunique'})\n",
    "\n",
    "df_word_end['per_all'] = df_word_end.adid / all_users\n",
    "\n",
    "df_word_end = df_word_end.sort_values('adid', ascending=False)\n",
    "\n",
    "df_word_end[['answer', 'per_all']]"
   ]
  },
  {
   "cell_type": "code",
   "execution_count": null,
   "id": "513c8932",
   "metadata": {},
   "outputs": [],
   "source": [
    "df_word_fail = df.query('event_name == \"game_word_fail\" & lvl_total == 2 & theme == \"Interesting\"') \\\n",
    "    .groupby('answer', as_index=False) \\\n",
    "    .agg({'adid': 'nunique', 'event_name': 'count'})\n",
    "\n",
    "df_word_fail['per_all'] = df_word_fail.adid / all_users\n",
    "df_word_fail['per_user'] = df_word_fail.event_name / df_word_fail.adid\n",
    "\n",
    "df_word_fail = df_word_fail.sort_values('adid', ascending=False)\n",
    "\n",
    "df_word_fail[['answer', 'per_all', 'per_user']]"
   ]
  },
  {
   "cell_type": "code",
   "execution_count": null,
   "id": "d499d163",
   "metadata": {},
   "outputs": [],
   "source": [
    "df_hint_spend = df.query('event_name == \"game_hint_spend\" & lvl_total == 2 & theme == \"Interesting\"') \\\n",
    "    .groupby('answer', as_index=False) \\\n",
    "    .agg({'adid': 'nunique', 'event_name': 'count'})\n",
    "\n",
    "df_hint_spend['per_all'] = df_hint_spend.adid / all_users\n",
    "df_hint_spend['per_user'] = df_hint_spend.event_name / df_hint_spend.adid\n",
    "\n",
    "df_hint_spend = df_hint_spend.sort_values('adid', ascending=False)\n",
    "\n",
    "df_hint_spend[['answer', 'per_all', 'per_user']]"
   ]
  },
  {
   "cell_type": "code",
   "execution_count": null,
   "id": "3a83d61a",
   "metadata": {},
   "outputs": [],
   "source": [
    "df_time_max = df_lvl.groupby(['adid', 'time_2_lvl'], as_index=False) \\\n",
    "                .agg({'created_at': max}) \\\n",
    "                .rename(columns={'created_at': 'max_time'})\n",
    "\n",
    "df_time_max['time_diff'] = df_time_max.max_time - df_time_max.time_2_lvl"
   ]
  },
  {
   "cell_type": "code",
   "execution_count": null,
   "id": "58a8fb41",
   "metadata": {},
   "outputs": [],
   "source": [
    "df_time_max.time_diff.describe()"
   ]
  },
  {
   "cell_type": "code",
   "execution_count": null,
   "id": "d7868ce5",
   "metadata": {},
   "outputs": [],
   "source": [
    "df_time_max.time_diff.quantile(0.35)"
   ]
  },
  {
   "cell_type": "code",
   "execution_count": null,
   "id": "b9c28153",
   "metadata": {},
   "outputs": [],
   "source": [
    "df_time_max.time_diff.quantile(0.45)"
   ]
  },
  {
   "cell_type": "code",
   "execution_count": null,
   "id": "9937948f",
   "metadata": {},
   "outputs": [],
   "source": [
    "df_time_max.time_diff.quantile(0.5)"
   ]
  },
  {
   "cell_type": "code",
   "execution_count": null,
   "id": "2d8afe12",
   "metadata": {},
   "outputs": [],
   "source": [
    "df_time_max.time_diff.quantile(0.7)"
   ]
  },
  {
   "cell_type": "code",
   "execution_count": null,
   "id": "7077f507",
   "metadata": {},
   "outputs": [],
   "source": [
    "plt.figure(figsize=(8, 4), dpi=80)\n",
    "\n",
    "plt.title('Распределение 70% самых малоактивных юзеров по времени, после старта 2 уровня', fontsize=14)\n",
    "plt.xlabel('Время, сек', fontsize=12)\n",
    "plt.ylabel('Кол-во юзеров', fontsize=12)\n",
    "sns.histplot(data=df_time_max.query('time_diff < 115').time_diff, \n",
    "            shrink=.85);"
   ]
  },
  {
   "cell_type": "code",
   "execution_count": null,
   "id": "6d546f79",
   "metadata": {},
   "outputs": [],
   "source": []
  },
  {
   "cell_type": "code",
   "execution_count": null,
   "id": "3c2e549d",
   "metadata": {},
   "outputs": [],
   "source": []
  },
  {
   "cell_type": "code",
   "execution_count": null,
   "id": "95a59ead",
   "metadata": {},
   "outputs": [],
   "source": []
  },
  {
   "cell_type": "code",
   "execution_count": null,
   "id": "2a630b9c",
   "metadata": {},
   "outputs": [],
   "source": []
  },
  {
   "cell_type": "code",
   "execution_count": null,
   "id": "150c91cf",
   "metadata": {},
   "outputs": [],
   "source": []
  },
  {
   "cell_type": "code",
   "execution_count": null,
   "id": "a6c999dd",
   "metadata": {},
   "outputs": [],
   "source": []
  },
  {
   "cell_type": "code",
   "execution_count": null,
   "id": "c81cfaac",
   "metadata": {},
   "outputs": [],
   "source": []
  },
  {
   "cell_type": "code",
   "execution_count": null,
   "id": "7543b55d",
   "metadata": {},
   "outputs": [],
   "source": []
  },
  {
   "cell_type": "code",
   "execution_count": null,
   "id": "71b4d315",
   "metadata": {},
   "outputs": [],
   "source": []
  },
  {
   "cell_type": "code",
   "execution_count": null,
   "id": "c78cb43a",
   "metadata": {},
   "outputs": [],
   "source": [
    "df_word_action = df.query('event_name == \"game_word_action\"') \\\n",
    "                                      .groupby(['lvl_total', 'theme', 'lvl'], as_index=False) \\\n",
    "                                      .agg({'adid': 'nunique', 'event_name': 'count'}) \\\n",
    "                                      .rename(columns={'adid': 'users_word_action'}) \\\n",
    "                                      .sort_values('users_word_action', ascending=False)"
   ]
  },
  {
   "cell_type": "code",
   "execution_count": null,
   "id": "ee7fd0af",
   "metadata": {},
   "outputs": [],
   "source": []
  },
  {
   "cell_type": "code",
   "execution_count": null,
   "id": "a1f10658",
   "metadata": {},
   "outputs": [],
   "source": [
    "df_game_word_end_word = df.query('event_name == \"game_word_end\" & type == \"words\"') \\\n",
    "                                      .groupby(['lvl_total', 'theme', 'lvl'], as_index=False) \\\n",
    "                                      .agg({'event_name': 'count'}) \\\n",
    "                                      .rename(columns={'event_name': 'events_words'})"
   ]
  },
  {
   "cell_type": "code",
   "execution_count": null,
   "id": "9ab53029",
   "metadata": {},
   "outputs": [],
   "source": [
    "df_game_word_end_solution = df.query('event_name == \"game_word_end\" & type == \"solution\"') \\\n",
    "                                      .groupby(['lvl_total', 'theme', 'lvl'], as_index=False) \\\n",
    "                                      .agg({'event_name': 'count'}) \\\n",
    "                                      .rename(columns={'event_name': 'events_solution'})"
   ]
  },
  {
   "cell_type": "code",
   "execution_count": null,
   "id": "17033da4",
   "metadata": {},
   "outputs": [],
   "source": [
    "df_word_solution = df_game_word_end_word.merge(df_game_word_end_solution, how='outer').fillna(0)"
   ]
  },
  {
   "cell_type": "code",
   "execution_count": null,
   "id": "4458c96f",
   "metadata": {},
   "outputs": [],
   "source": [
    "df_word_solution['word_per_solution'] = df_word_solution.events_solution / (\n",
    "                                                df_word_solution.events_words + df_word_solution.events_solution)"
   ]
  },
  {
   "cell_type": "code",
   "execution_count": null,
   "id": "dfaa5b3d",
   "metadata": {},
   "outputs": [],
   "source": [
    "df_word_solution = df_word_solution[['lvl_total', 'theme', 'lvl', 'word_per_solution']].copy()"
   ]
  },
  {
   "cell_type": "code",
   "execution_count": null,
   "id": "0fcabb15",
   "metadata": {
    "scrolled": false
   },
   "outputs": [],
   "source": [
    "df_lvl_word_solution = n_lvls.merge(df_word_solution, how='outer').fillna(0)\n",
    "df_lvl_word_solution = df_lvl_word_solution[['N', 'theme', 'lvl', 'word_per_solution']]\n",
    "df_lvl_word_solution.head()"
   ]
  },
  {
   "cell_type": "code",
   "execution_count": null,
   "id": "ad8a83a6",
   "metadata": {},
   "outputs": [],
   "source": [
    "# финальный DF - df_final_last - его копировал в гугл шит и некоторые колонки добавлял руками по аналогии можно смотреть как \n",
    "# в последнем репорте"
   ]
  },
  {
   "cell_type": "code",
   "execution_count": null,
   "id": "f28add4d",
   "metadata": {},
   "outputs": [],
   "source": [
    "df_final_last"
   ]
  },
  {
   "cell_type": "code",
   "execution_count": null,
   "id": "5c082376",
   "metadata": {},
   "outputs": [],
   "source": [
    "df_final"
   ]
  },
  {
   "cell_type": "code",
   "execution_count": null,
   "id": "f428f61f",
   "metadata": {
    "scrolled": false
   },
   "outputs": [],
   "source": [
    "df_final_last"
   ]
  },
  {
   "cell_type": "code",
   "execution_count": null,
   "id": "5fd3d36d",
   "metadata": {},
   "outputs": [],
   "source": []
  },
  {
   "cell_type": "code",
   "execution_count": null,
   "id": "df2fd06d",
   "metadata": {},
   "outputs": [],
   "source": []
  },
  {
   "cell_type": "code",
   "execution_count": null,
   "id": "2043cbdf",
   "metadata": {},
   "outputs": [],
   "source": []
  },
  {
   "cell_type": "code",
   "execution_count": null,
   "id": "081da1c7",
   "metadata": {},
   "outputs": [],
   "source": [
    "df.query('event_name == \"ab_test\"')"
   ]
  },
  {
   "cell_type": "code",
   "execution_count": null,
   "id": "84366bb3",
   "metadata": {},
   "outputs": [],
   "source": [
    "df.query('lvl_total == 3')"
   ]
  },
  {
   "cell_type": "code",
   "execution_count": null,
   "id": "d09b08d0",
   "metadata": {},
   "outputs": [],
   "source": [
    "df_lvl = df.merge(n_lvls)"
   ]
  },
  {
   "cell_type": "code",
   "execution_count": null,
   "id": "e55be09f",
   "metadata": {},
   "outputs": [],
   "source": [
    "# ввместо N выбирать нужный лвл того, чтоб посмотреть по словам на уровне"
   ]
  },
  {
   "cell_type": "code",
   "execution_count": null,
   "id": "0a13caa4",
   "metadata": {},
   "outputs": [],
   "source": [
    "df_3_lvl = df.query('lvl_total == 3')"
   ]
  },
  {
   "cell_type": "code",
   "execution_count": null,
   "id": "8602a173",
   "metadata": {},
   "outputs": [],
   "source": [
    "start_lvl_users = df_3_lvl.query('event_name == \"game_start\"').adid.nunique()"
   ]
  },
  {
   "cell_type": "code",
   "execution_count": null,
   "id": "52fe138e",
   "metadata": {},
   "outputs": [],
   "source": [
    "events_list = ('game_hint_spend', 'game_word_action', 'game_word_end', 'game_word_fail')"
   ]
  },
  {
   "cell_type": "code",
   "execution_count": null,
   "id": "3fca6564",
   "metadata": {},
   "outputs": [],
   "source": [
    "df_3_lvl_words = df_3_lvl.query('event_name in @events_list & type == \"words\"') \\\n",
    "    .groupby(['answer', 'event_name'], as_index=False) \\\n",
    "    .agg({'adid': 'nunique', 'theme': 'count'}) \\\n",
    "    .rename(columns={'adid': 'users_nunique', 'theme': 'total_events'})\n",
    "\n",
    "df_3_lvl_words['events_per_user'] = round(df_3_lvl_words.total_events / df_3_lvl_words.users_nunique, 2)\n",
    "df_3_lvl_words['users_per_users_win'] = df_3_lvl_words.users_nunique / start_lvl_users\n",
    "df_3_lvl_words = df_3_lvl_words[['answer', 'event_name', 'users_per_users_win', 'events_per_user']]"
   ]
  },
  {
   "cell_type": "code",
   "execution_count": null,
   "id": "56e02107",
   "metadata": {},
   "outputs": [],
   "source": [
    "df_3_lvl_words.set_index(['answer', 'event_name']) \\\n",
    "                .users_per_users_win.unstack().reset_index()"
   ]
  },
  {
   "cell_type": "code",
   "execution_count": null,
   "id": "78a9f448",
   "metadata": {},
   "outputs": [],
   "source": [
    "df_3_lvl_words_uniq_users = df_3_lvl_words.set_index(['answer', 'event_name']) \\\n",
    "                .users_per_users_win.unstack().reset_index()\n",
    "df_3_lvl_words_uniq_users.columns = ('answer', 'hint_users', 'action_users', 'end_users', 'fail_users')"
   ]
  },
  {
   "cell_type": "code",
   "execution_count": null,
   "id": "4870f3bc",
   "metadata": {},
   "outputs": [],
   "source": [
    "df_3_lvl_words_per_user = df_3_lvl_words.set_index(['answer', 'event_name']) \\\n",
    "                .events_per_user.unstack().reset_index()\n",
    "df_3_lvl_words_per_user.columns = ('answer', 'hint_events', 'action_events', 'end_events', 'fail_events')"
   ]
  },
  {
   "cell_type": "code",
   "execution_count": null,
   "id": "2b39060b",
   "metadata": {},
   "outputs": [],
   "source": [
    "df_3_lvl_words_total = df_3_lvl_words_uniq_users.merge(df_3_lvl_words_per_user)"
   ]
  },
  {
   "cell_type": "code",
   "execution_count": null,
   "id": "e78674c9",
   "metadata": {},
   "outputs": [],
   "source": [
    "df_3_lvl_words_total = df_3_lvl_words_total[['answer', 'fail_users', 'fail_events', 'end_users', 'hint_users', \n",
    "                      'hint_events', 'action_users', 'action_events']]"
   ]
  },
  {
   "cell_type": "code",
   "execution_count": null,
   "id": "40a6a433",
   "metadata": {},
   "outputs": [],
   "source": [
    "df_3_lvl_top_fail = df_3_lvl.query('event_name == \"game_word_fail\" & type == \"words\"') \\\n",
    "                .groupby(['answer', 'result'], as_index=False) \\\n",
    "                .agg({'adid': 'count'})"
   ]
  },
  {
   "cell_type": "code",
   "execution_count": null,
   "id": "9ffba6a9",
   "metadata": {},
   "outputs": [],
   "source": [
    "max_fails = df_3_lvl_top_fail.groupby('answer', as_index=False) \\\n",
    "                 .agg({'adid': max})"
   ]
  },
  {
   "cell_type": "code",
   "execution_count": null,
   "id": "84c09ecd",
   "metadata": {},
   "outputs": [],
   "source": [
    "df_3_lvl_max_fails_per_answer = df_3_lvl_top_fail.merge(max_fails, on=['answer', 'adid'])\n",
    "df_3_lvl_max_fails_per_answer = df_3_lvl_max_fails_per_answer[['answer', 'result']]"
   ]
  },
  {
   "cell_type": "code",
   "execution_count": null,
   "id": "661d3489",
   "metadata": {},
   "outputs": [],
   "source": [
    "df_3_lvl_words_final = df_3_lvl_words_total.merge(df_3_lvl_max_fails_per_answer)"
   ]
  },
  {
   "cell_type": "code",
   "execution_count": null,
   "id": "a77ce58c",
   "metadata": {},
   "outputs": [],
   "source": [
    "df_3_lvl_words_final.sort_values('fail_users', ascending=False)"
   ]
  },
  {
   "cell_type": "code",
   "execution_count": null,
   "id": "a391bbe7",
   "metadata": {},
   "outputs": [],
   "source": []
  },
  {
   "cell_type": "code",
   "execution_count": null,
   "id": "cd945212",
   "metadata": {},
   "outputs": [],
   "source": []
  },
  {
   "cell_type": "code",
   "execution_count": null,
   "id": "1ddc254b",
   "metadata": {},
   "outputs": [],
   "source": []
  },
  {
   "cell_type": "code",
   "execution_count": null,
   "id": "4a6b0625",
   "metadata": {},
   "outputs": [],
   "source": []
  }
 ],
 "metadata": {
  "kernelspec": {
   "display_name": "Python 3 (ipykernel)",
   "language": "python",
   "name": "python3"
  },
  "language_info": {
   "codemirror_mode": {
    "name": "ipython",
    "version": 3
   },
   "file_extension": ".py",
   "mimetype": "text/x-python",
   "name": "python",
   "nbconvert_exporter": "python",
   "pygments_lexer": "ipython3",
   "version": "3.9.7"
  }
 },
 "nbformat": 4,
 "nbformat_minor": 5
}
